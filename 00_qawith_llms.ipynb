{
 "cells": [
  {
   "cell_type": "code",
   "execution_count": null,
   "metadata": {},
   "outputs": [],
   "source": [
    "#| default_exp clinical_llms"
   ]
  },
  {
   "cell_type": "markdown",
   "metadata": {},
   "source": [
    "# Extracting clinical data using LLMs\n",
    "> What is this nb about?"
   ]
  },
  {
   "cell_type": "code",
   "execution_count": null,
   "metadata": {},
   "outputs": [],
   "source": [
    "#| hide\n",
    "from transformers import AutoModelForCausalLM,AutoTokenizer\n",
    "import torch"
   ]
  },
  {
   "cell_type": "markdown",
   "metadata": {},
   "source": [
    "#### meta-llama/Llama-2-7b-hf"
   ]
  },
  {
   "cell_type": "code",
   "execution_count": null,
   "metadata": {},
   "outputs": [
    {
     "ename": "ImportError",
     "evalue": "Using `low_cpu_mem_usage=True` or a `device_map` requires Accelerate: `pip install accelerate`",
     "output_type": "error",
     "traceback": [
      "\u001b[0;31m---------------------------------------------------------------------------\u001b[0m",
      "\u001b[0;31mImportError\u001b[0m                               Traceback (most recent call last)",
      "Cell \u001b[0;32mIn[6], line 2\u001b[0m\n\u001b[1;32m      1\u001b[0m mn \u001b[38;5;241m=\u001b[39m \u001b[38;5;124m\"\u001b[39m\u001b[38;5;124mmeta-llama/Llama-2-7b-hf\u001b[39m\u001b[38;5;124m\"\u001b[39m\n\u001b[0;32m----> 2\u001b[0m model \u001b[38;5;241m=\u001b[39m \u001b[43mAutoModelForCausalLM\u001b[49m\u001b[38;5;241;43m.\u001b[39;49m\u001b[43mfrom_pretrained\u001b[49m\u001b[43m(\u001b[49m\u001b[43mmn\u001b[49m\u001b[43m,\u001b[49m\u001b[43m \u001b[49m\u001b[43mdevice_map\u001b[49m\u001b[38;5;241;43m=\u001b[39;49m\u001b[38;5;124;43m'\u001b[39;49m\u001b[38;5;124;43mcpu\u001b[39;49m\u001b[38;5;124;43m'\u001b[39;49m\u001b[43m,\u001b[49m\u001b[43m \u001b[49m\u001b[43mload_in_8bit\u001b[49m\u001b[38;5;241;43m=\u001b[39;49m\u001b[38;5;28;43;01mTrue\u001b[39;49;00m\u001b[43m)\u001b[49m\n\u001b[1;32m      3\u001b[0m tokr \u001b[38;5;241m=\u001b[39m AutoTokenizer\u001b[38;5;241m.\u001b[39mfrom_pretrained(mn)\n",
      "File \u001b[0;32m~/miniconda3/envs/nbdev-py3.10/lib/python3.10/site-packages/transformers/models/auto/auto_factory.py:563\u001b[0m, in \u001b[0;36m_BaseAutoModelClass.from_pretrained\u001b[0;34m(cls, pretrained_model_name_or_path, *model_args, **kwargs)\u001b[0m\n\u001b[1;32m    561\u001b[0m \u001b[38;5;28;01melif\u001b[39;00m \u001b[38;5;28mtype\u001b[39m(config) \u001b[38;5;129;01min\u001b[39;00m \u001b[38;5;28mcls\u001b[39m\u001b[38;5;241m.\u001b[39m_model_mapping\u001b[38;5;241m.\u001b[39mkeys():\n\u001b[1;32m    562\u001b[0m     model_class \u001b[38;5;241m=\u001b[39m _get_model_class(config, \u001b[38;5;28mcls\u001b[39m\u001b[38;5;241m.\u001b[39m_model_mapping)\n\u001b[0;32m--> 563\u001b[0m     \u001b[38;5;28;01mreturn\u001b[39;00m \u001b[43mmodel_class\u001b[49m\u001b[38;5;241;43m.\u001b[39;49m\u001b[43mfrom_pretrained\u001b[49m\u001b[43m(\u001b[49m\n\u001b[1;32m    564\u001b[0m \u001b[43m        \u001b[49m\u001b[43mpretrained_model_name_or_path\u001b[49m\u001b[43m,\u001b[49m\u001b[43m \u001b[49m\u001b[38;5;241;43m*\u001b[39;49m\u001b[43mmodel_args\u001b[49m\u001b[43m,\u001b[49m\u001b[43m \u001b[49m\u001b[43mconfig\u001b[49m\u001b[38;5;241;43m=\u001b[39;49m\u001b[43mconfig\u001b[49m\u001b[43m,\u001b[49m\u001b[43m \u001b[49m\u001b[38;5;241;43m*\u001b[39;49m\u001b[38;5;241;43m*\u001b[39;49m\u001b[43mhub_kwargs\u001b[49m\u001b[43m,\u001b[49m\u001b[43m \u001b[49m\u001b[38;5;241;43m*\u001b[39;49m\u001b[38;5;241;43m*\u001b[39;49m\u001b[43mkwargs\u001b[49m\n\u001b[1;32m    565\u001b[0m \u001b[43m    \u001b[49m\u001b[43m)\u001b[49m\n\u001b[1;32m    566\u001b[0m \u001b[38;5;28;01mraise\u001b[39;00m \u001b[38;5;167;01mValueError\u001b[39;00m(\n\u001b[1;32m    567\u001b[0m     \u001b[38;5;124mf\u001b[39m\u001b[38;5;124m\"\u001b[39m\u001b[38;5;124mUnrecognized configuration class \u001b[39m\u001b[38;5;132;01m{\u001b[39;00mconfig\u001b[38;5;241m.\u001b[39m\u001b[38;5;18m__class__\u001b[39m\u001b[38;5;132;01m}\u001b[39;00m\u001b[38;5;124m for this kind of AutoModel: \u001b[39m\u001b[38;5;132;01m{\u001b[39;00m\u001b[38;5;28mcls\u001b[39m\u001b[38;5;241m.\u001b[39m\u001b[38;5;18m__name__\u001b[39m\u001b[38;5;132;01m}\u001b[39;00m\u001b[38;5;124m.\u001b[39m\u001b[38;5;130;01m\\n\u001b[39;00m\u001b[38;5;124m\"\u001b[39m\n\u001b[1;32m    568\u001b[0m     \u001b[38;5;124mf\u001b[39m\u001b[38;5;124m\"\u001b[39m\u001b[38;5;124mModel type should be one of \u001b[39m\u001b[38;5;132;01m{\u001b[39;00m\u001b[38;5;124m'\u001b[39m\u001b[38;5;124m, \u001b[39m\u001b[38;5;124m'\u001b[39m\u001b[38;5;241m.\u001b[39mjoin(c\u001b[38;5;241m.\u001b[39m\u001b[38;5;18m__name__\u001b[39m\u001b[38;5;250m \u001b[39m\u001b[38;5;28;01mfor\u001b[39;00m\u001b[38;5;250m \u001b[39mc\u001b[38;5;250m \u001b[39m\u001b[38;5;129;01min\u001b[39;00m\u001b[38;5;250m \u001b[39m\u001b[38;5;28mcls\u001b[39m\u001b[38;5;241m.\u001b[39m_model_mapping\u001b[38;5;241m.\u001b[39mkeys())\u001b[38;5;132;01m}\u001b[39;00m\u001b[38;5;124m.\u001b[39m\u001b[38;5;124m\"\u001b[39m\n\u001b[1;32m    569\u001b[0m )\n",
      "File \u001b[0;32m~/miniconda3/envs/nbdev-py3.10/lib/python3.10/site-packages/transformers/modeling_utils.py:2970\u001b[0m, in \u001b[0;36mPreTrainedModel.from_pretrained\u001b[0;34m(cls, pretrained_model_name_or_path, config, cache_dir, ignore_mismatched_sizes, force_download, local_files_only, token, revision, use_safetensors, *model_args, **kwargs)\u001b[0m\n\u001b[1;32m   2966\u001b[0m         \u001b[38;5;28;01mraise\u001b[39;00m \u001b[38;5;167;01mValueError\u001b[39;00m(\n\u001b[1;32m   2967\u001b[0m             \u001b[38;5;124m\"\u001b[39m\u001b[38;5;124mDeepSpeed Zero-3 is not compatible with `low_cpu_mem_usage=True` or with passing a `device_map`.\u001b[39m\u001b[38;5;124m\"\u001b[39m\n\u001b[1;32m   2968\u001b[0m         )\n\u001b[1;32m   2969\u001b[0m     \u001b[38;5;28;01melif\u001b[39;00m \u001b[38;5;129;01mnot\u001b[39;00m is_accelerate_available():\n\u001b[0;32m-> 2970\u001b[0m         \u001b[38;5;28;01mraise\u001b[39;00m \u001b[38;5;167;01mImportError\u001b[39;00m(\n\u001b[1;32m   2971\u001b[0m             \u001b[38;5;124m\"\u001b[39m\u001b[38;5;124mUsing `low_cpu_mem_usage=True` or a `device_map` requires Accelerate: `pip install accelerate`\u001b[39m\u001b[38;5;124m\"\u001b[39m\n\u001b[1;32m   2972\u001b[0m         )\n\u001b[1;32m   2974\u001b[0m \u001b[38;5;66;03m# handling bnb config from kwargs, remove after `load_in_{4/8}bit` deprecation.\u001b[39;00m\n\u001b[1;32m   2975\u001b[0m \u001b[38;5;28;01mif\u001b[39;00m load_in_4bit \u001b[38;5;129;01mor\u001b[39;00m load_in_8bit:\n",
      "\u001b[0;31mImportError\u001b[0m: Using `low_cpu_mem_usage=True` or a `device_map` requires Accelerate: `pip install accelerate`"
     ]
    }
   ],
   "source": [
    "mn = \"meta-llama/Llama-2-7b-hf\"\n",
    "model = AutoModelForCausalLM.from_pretrained(mn, device_map=0, load_in_8bit=True)\n",
    "tokr = AutoTokenizer.from_pretrained(mn)"
   ]
  },
  {
   "cell_type": "code",
   "execution_count": null,
   "metadata": {},
   "outputs": [],
   "source": [
    "prompt = \"Extract the calcification status or category from the following radiology report: \""
   ]
  },
  {
   "cell_type": "code",
   "execution_count": null,
   "metadata": {},
   "outputs": [],
   "source": [
    "report = \"\"\"\n",
    "FINDINGS:\n",
    "There are scattered calcifications in the right breast, which are coarse and heterogeneous in morphology. These calcifications are categorized as BI-RADS 4, suspicious for malignancy.\n",
    "\n",
    "No suspicious masses, architectural distortion, or skin thickening are identified in either breast.\n",
    "\n",
    "IMPRESSION:\n",
    "BI-RADS 4: Suspicious calcifications in the right breast. Biopsy is recommended for further evaluation.\n",
    "\"\"\""
   ]
  },
  {
   "cell_type": "code",
   "execution_count": null,
   "metadata": {},
   "outputs": [],
   "source": [
    "ques = prompt + report"
   ]
  },
  {
   "cell_type": "code",
   "execution_count": null,
   "metadata": {},
   "outputs": [],
   "source": [
    "toks = tokr(ques, return_tensors=\"pt\")"
   ]
  },
  {
   "cell_type": "code",
   "execution_count": null,
   "metadata": {},
   "outputs": [],
   "source": [
    "tokr.batch_decode(toks['input_ids'])"
   ]
  },
  {
   "cell_type": "code",
   "execution_count": null,
   "metadata": {},
   "outputs": [],
   "source": [
    "%%time\n",
    "res = model.generate(**toks.to(\"cuda\"), max_new_tokens=15).to('cpu')\n",
    "res"
   ]
  },
  {
   "cell_type": "code",
   "execution_count": null,
   "metadata": {},
   "outputs": [],
   "source": [
    "tokr.batch_decode(res)"
   ]
  },
  {
   "cell_type": "markdown",
   "metadata": {},
   "source": [
    "#### TheBloke/Llama-2-13B-GPTQ"
   ]
  },
  {
   "cell_type": "code",
   "execution_count": null,
   "metadata": {},
   "outputs": [],
   "source": [
    "mn = 'TheBloke/Llama-2-13B-GPTQ'\n",
    "model = AutoModelForCausalLM.from_pretrained(mn, device_map=0, torch_dtype=torch.float16)"
   ]
  },
  {
   "cell_type": "code",
   "execution_count": null,
   "metadata": {},
   "outputs": [],
   "source": [
    "model = AutoModelForCausalLM.from_pretrained(mn, device_map=0, torch_dtype=torch.bfloat16)"
   ]
  },
  {
   "cell_type": "code",
   "execution_count": null,
   "metadata": {},
   "outputs": [],
   "source": [
    "%%time\n",
    "res = model.generate(**toks.to(\"cuda\"), max_new_tokens=15).to('cpu')\n",
    "res"
   ]
  },
  {
   "cell_type": "code",
   "execution_count": null,
   "metadata": {},
   "outputs": [],
   "source": [
    "%%time\n",
    "res = model.generate(**toks.to(\"cuda\"), max_new_tokens=15).to('cpu')\n",
    "res"
   ]
  },
  {
   "cell_type": "code",
   "execution_count": null,
   "metadata": {},
   "outputs": [],
   "source": [
    "def gen(p, maxlen=15, sample=True):\n",
    "    toks = tokr(p, return_tensors=\"pt\")\n",
    "    res = model.generate(**toks.to(\"cuda\"), max_new_tokens=maxlen, do_sample=sample).to('cpu')\n",
    "    return tokr.batch_decode(res)"
   ]
  },
  {
   "cell_type": "code",
   "execution_count": null,
   "metadata": {},
   "outputs": [],
   "source": [
    "gen(prompt, 50)"
   ]
  },
  {
   "cell_type": "code",
   "execution_count": null,
   "metadata": {},
   "outputs": [],
   "source": [
    "#### TheBloke/OpenOrca-Platypus2-13B-GPTQ"
   ]
  },
  {
   "cell_type": "code",
   "execution_count": null,
   "metadata": {},
   "outputs": [],
   "source": [
    "mn = 'TheBloke/OpenOrca-Platypus2-13B-GPTQ'\n",
    "model = AutoModelForCausalLM.from_pretrained(mn, device_map=0, torch_dtype=torch.float16)"
   ]
  },
  {
   "cell_type": "code",
   "execution_count": null,
   "metadata": {},
   "outputs": [],
   "source": [
    "def mk_oo_prompt(user): return f\"### Instruction: {user}\\n\\n### Response:\\n\""
   ]
  },
  {
   "cell_type": "code",
   "execution_count": null,
   "metadata": {},
   "outputs": [],
   "source": [
    "gen(mk_oo_prompt(ques), 150)"
   ]
  },
  {
   "cell_type": "code",
   "execution_count": null,
   "metadata": {},
   "outputs": [],
   "source": [
    "def gen(p, maxlen=15, sample=True):\n",
    "    toks = tokr(p, return_tensors=\"pt\")\n",
    "    res = model.generate(**toks.to(\"cuda\"), max_new_tokens=maxlen, do_sample=sample).to('cpu')\n",
    "    return tokr.batch_decode(res)"
   ]
  },
  {
   "cell_type": "code",
   "execution_count": null,
   "metadata": {},
   "outputs": [],
   "source": [
    "sb_sys = \"### System:\\nYou are an AI that follows instructions extremely well. Help as much as you can.\\n\\n\""
   ]
  },
  {
   "cell_type": "code",
   "execution_count": null,
   "metadata": {},
   "outputs": [],
   "source": [
    "def mk_prompt(user, syst=sb_sys): return f\"{syst}### User: {user}\\n\\n### Assistant:\\n\""
   ]
  },
  {
   "cell_type": "code",
   "execution_count": null,
   "metadata": {},
   "outputs": [],
   "source": [
    "prompt = \"Extract the calcification status or category from the following radiology report: \""
   ]
  },
  {
   "cell_type": "code",
   "execution_count": null,
   "metadata": {},
   "outputs": [],
   "source": [
    "report = \"\"\"\n",
    "FINDINGS:\n",
    "There are scattered calcifications in the right breast, which are coarse and heterogeneous in morphology. These calcifications are categorized as BI-RADS 4, suspicious for malignancy.\n",
    "\n",
    "No suspicious masses, architectural distortion, or skin thickening are identified in either breast.\n",
    "\n",
    "IMPRESSION:\n",
    "BI-RADS 4: Suspicious calcifications in the right breast. Biopsy is recommended for further evaluation.\n",
    "\"\"\"\n",
    "\n",
    "ques = prompt + report\n",
    "\n",
    "gen(mk_prompt(ques), 150)"
   ]
  },
  {
   "cell_type": "markdown",
   "metadata": {},
   "source": [
    "#### RAG?"
   ]
  },
  {
   "cell_type": "code",
   "execution_count": null,
   "metadata": {},
   "outputs": [],
   "source": [
    "#| hide\n",
    "webpage = \"\"\"\n",
    "Breast calcifications\n",
    "Last revised by Mostafa Elfeky on 10 Jul 2023\n",
    " \n",
    "Citation, DOI, disclosures and article data\n",
    "Breast calcifications are deposits of calcium salts in the breast, which are radio-opaque on mammography. The majority are benign, but they can be associated with cancer. The ability to diagnose and appropriately manage the significant microcalcifications and differentiate them from innocuous findings is part of the art and science of breast imaging.\n",
    "\n",
    "Epidemiology\n",
    "Calcifications are extremely common, present in ~85% of mammograms 8. Their frequency increases with age. \n",
    "\n",
    "In a screening mammography program, the rate of recall because of calcifications was 1.7% and of these, 19% resulted in a cancer diagnosis 13. In the digital mammography era, about one-sixth of all recalls are for calcifications 15.\n",
    "\n",
    "Calcification-specific cancer detection rates in the era of digital mammography range from 1.9 to 3.2 in 1000 screened 13,14. A third of breast cancers show calcifications as the only mammographically suspicious feature 13. Up to 50% of breast cancers can be associated with calcification while 15-30% of calcifications biopsied for various reasons tend to be malignant in asymptomatic patients 10.\n",
    "\n",
    "Pathology\n",
    "Aetiology\n",
    "Of the breast cancers detected on mammography due to calcifications, about two-thirds represent ductal carcinoma in situ and the remainder are invasive ductal carcinoma 13,14. In contrast, the causes of benign calcifications are broad and covered in detail in other sections (Radiographic features and Differential diagnosis).\n",
    "\n",
    "Microscopic appearance\n",
    "Calcifications typically represent calcium phosphate or calcium oxalate salt deposition, with the latter more likely to be benign 19. The former appears purple on haematoxylin and eosin stain, while the latter requires the use of polarised light to assess birefringence.\n",
    "\n",
    "Radiographic features\n",
    "The BI-RADS lexicon prescribes descriptors for typically benign calcifications as well as suspicious morphologic terms and descriptors of calcification distribution 17. See also the separate article on breast calcifications: an approach.\n",
    "\n",
    "Typically benign calcifications\n",
    "skin: lucent centred, usually tightly grouped, and can be localised on tangential views if the appearance is atypical; formed within the dermis/epidermis\n",
    "vascular: parallel tram tracks or discontinuous linear appearance at the margins of a tubular structure; formed in blood vessel walls\n",
    "coarse or \"popcorn-like\": large (>2-3 mm), sometimes confluent or associated with a circumscribed mass; formed in involuting fibroadenomas\n",
    "large rod-like: large tubules in a radiating and sometimes branching distribution orientated towards the nipple; with the largest in a breast measuring mean 4 mm long and 0.6 mm wide, usually bilateral, usually intraductal but sometimes periductal, usually in older women (>60 years) 18; formed within ductal ectasia\n",
    "round, including punctate: circular, usually <1 mm (<0.5 mm if punctate); formed in acini of terminal ductal lobular unit\n",
    "rim: \"eggshell\", lucent centred; formed in the walls of oil cysts (fat necrosis) or simple cysts\n",
    "dystrophic: irregular, usually >1 mm; formed after radiation, trauma, or surgery\n",
    "milk of calcium: \"tea cups\" curvilinear or linear level on the 90° lateral (ML/LM) view but a smudge on the CC view; formed as sediment within cysts\n",
    "suture: linear or tubular calcifications; formed on loops and knots of surgical sutures\n",
    "Suspicious morphology of calcifications\n",
    "The following particle shapes carry increasing suspicion for malignancy, in order 17,18:\n",
    "\n",
    "coarse heterogeneous: irregular, generally 0.5-1 mm\n",
    "amorphous: indistinct and/or small (\"powdery\", \"cloud\", or \"cottony\"), such that another specific shape cannot be determined\n",
    "fine pleomorphic: variable shape (\"shards of glass\" or \"crushed stone\"), generally <0.5 mm\n",
    "fine linear or fine-linear branching: thin (<0.5 mm), linear, branching or irregularly arranged (\"casting\")\n",
    "See also the separate article on suspicious breast calcifications. These descriptors and their associated probability of malignancy can be further modified by their distribution.\n",
    "\n",
    "Distribution\n",
    "diffuse: scattered randomly throughout the breast; almost always benign\n",
    "regional: scattered in a larger volume (>2 cm in greatest linear dimension) of breast tissue and not in the expected ductal distribution; malignancy is less likely but the overall evaluation also depends on the morphology\n",
    "grouped: a cluster of at least 5 calcifications within 1 cm from each other, in an area at most 2 cm in greatest linear dimension; more likely to be malignant with smaller calcific particle sizes (<1 mm) and suspicious shape\n",
    "linear: calcifications arrayed in a line suggestive of deposition along ducts; suspicious if there is not a characteristically benign appearance such as vascular or large rod-like calcifications)\n",
    "segmental: calcium deposits in ducts and branches of a segment or lobe; suspicious if not characteristically benign such as large rod-like\n",
    "Radiology report\n",
    "Calcifications that are typically benign do not need to be reported (BI-RADS 1), so that the referrer or patient reading the report would not be confused that they could be anything other than definitely benign, but they may be reported (BI-RADS 2) if there is concern that other observers viewing the images might not interpret them as benign 17.\n",
    "\n",
    "Round calcifications are benign (BI-RADS 2) if diffuse or stable for several years. Grouped punctate calcifications in isolation and without prior examinations for comparison are probably benign if a full diagnostic evaluation has been performed (BI-RADS 3). Punctate calcifications that are new, increased, or linear or segmental in distribution are suspicious (BI-RADS 4).\n",
    "\n",
    "Amorphous calcifications are suspicious (BI-RADS 4) unless they are bilateral and diffuse and/or stable for many years. A single group of coarse heterogeneous, amorphous, or fine pleomorphic calcifications are moderately suspicious (BI-RADS 4B), whereas fine linear or fine-linear branching calcifications are highly suspicious (BI-RADS 4C) 17. A linear or segmental distribution increases the level of suspicion for calcifications with suspicious morphologies.\n",
    "\n",
    "A combination of several suspicious descriptors/findings can be highly suggestive of malignancy (BI-RADS 5), a category which is used if a nonmalignant percutaneous biopsy result would be discordant and prompt a repeat biopsy (usually surgical).\n",
    "\n",
    "Differential diagnosis\n",
    "Many entities cause breast calcifications but the primary distinction of clinical relevance is between benign and malignant causes. The classic benign aetiologies are noted above (\"Typically benign calcifications\"). As noted above, malignant calcifications usually represent either ductal carcinoma in situ or invasive ductal carcinoma.\n",
    "\n",
    "Artifactual mimics of calcification include antiperspirants, powders, soaps, and tattoos.\n",
    "\"\"\""
   ]
  },
  {
   "cell_type": "code",
   "execution_count": null,
   "metadata": {},
   "outputs": [],
   "source": [
    "context = f\"{report}\\n{webpage[:700]}\""
   ]
  },
  {
   "cell_type": "code",
   "execution_count": null,
   "metadata": {},
   "outputs": [],
   "source": [
    "ques = \"Based on the information provided, what type of microcalcifications are present in the report? What does this likely indicate?\""
   ]
  },
  {
   "cell_type": "code",
   "execution_count": null,
   "metadata": {},
   "outputs": [],
   "source": [
    "ques_ctx = f\"\"\"Answer the question with the help of the provided context. ## Context {context} ## Question {ques}\"\"\""
   ]
  },
  {
   "cell_type": "code",
   "execution_count": null,
   "metadata": {},
   "outputs": [],
   "source": [
    "res = gen(mk_prompt(ques_ctx), 300)"
   ]
  },
  {
   "cell_type": "code",
   "execution_count": null,
   "metadata": {},
   "outputs": [],
   "source": [
    "print(res[0].split('### Assistant:\\n')[1])"
   ]
  }
 ],
 "metadata": {
  "kernelspec": {
   "display_name": "python3",
   "language": "python",
   "name": "python3"
  }
 },
 "nbformat": 4,
 "nbformat_minor": 2
}
