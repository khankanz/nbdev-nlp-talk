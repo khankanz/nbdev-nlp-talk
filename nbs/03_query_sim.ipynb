{
 "cells": [
  {
   "cell_type": "code",
   "execution_count": 6,
   "id": "17159ca3-3dad-472e-a0f3-42fa2cabc68e",
   "metadata": {
    "tags": []
   },
   "outputs": [],
   "source": [
    "#| default_exp query_sim"
   ]
  },
  {
   "cell_type": "markdown",
   "id": "a63aeaab-e61f-482a-8bc3-c1bbf6063720",
   "metadata": {
    "tags": []
   },
   "source": [
    "# Query similarity search\n",
    "> What is this nb about?"
   ]
  },
  {
   "cell_type": "code",
   "execution_count": 7,
   "id": "d97707ba-9b1e-498a-b2bb-ffae9086a84d",
   "metadata": {
    "collapsed": true,
    "jupyter": {
     "outputs_hidden": true
    },
    "tags": []
   },
   "outputs": [
    {
     "name": "stdout",
     "output_type": "stream",
     "text": [
      "Collecting sentence_transformers\n",
      "  Obtaining dependency information for sentence_transformers from https://files.pythonhosted.org/packages/ba/20/7ef81df2e07322d95332d07c1c38c597f543c1f666d689a3153ba6fa09e3/sentence_transformers-2.6.1-py3-none-any.whl.metadata\n",
      "  Downloading sentence_transformers-2.6.1-py3-none-any.whl.metadata (11 kB)\n",
      "Requirement already satisfied: transformers<5.0.0,>=4.32.0 in /home/zardar/miniconda3/envs/py3.10/lib/python3.10/site-packages (from sentence_transformers) (4.35.0)\n",
      "Requirement already satisfied: tqdm in /home/zardar/miniconda3/envs/py3.10/lib/python3.10/site-packages (from sentence_transformers) (4.66.1)\n",
      "Requirement already satisfied: torch>=1.11.0 in /home/zardar/miniconda3/envs/py3.10/lib/python3.10/site-packages (from sentence_transformers) (2.1.0)\n",
      "Requirement already satisfied: numpy in /home/zardar/miniconda3/envs/py3.10/lib/python3.10/site-packages (from sentence_transformers) (1.26.0)\n",
      "Collecting scikit-learn (from sentence_transformers)\n",
      "  Obtaining dependency information for scikit-learn from https://files.pythonhosted.org/packages/bc/b9/6a637668d69de04b7f8b917e837aff282950601f09998a5f6c9f23f6642d/scikit_learn-1.4.1.post1-cp310-cp310-manylinux_2_17_x86_64.manylinux2014_x86_64.whl.metadata\n",
      "  Downloading scikit_learn-1.4.1.post1-cp310-cp310-manylinux_2_17_x86_64.manylinux2014_x86_64.whl.metadata (11 kB)\n",
      "Collecting scipy (from sentence_transformers)\n",
      "  Obtaining dependency information for scipy from https://files.pythonhosted.org/packages/b9/9d/39dbcf49a793157f9d4f5b8961855677eb4dbb4b82700dcee7042ad2310c/scipy-1.13.0-cp310-cp310-manylinux_2_17_x86_64.manylinux2014_x86_64.whl.metadata\n",
      "  Downloading scipy-1.13.0-cp310-cp310-manylinux_2_17_x86_64.manylinux2014_x86_64.whl.metadata (60 kB)\n",
      "\u001b[2K     \u001b[38;2;114;156;31m━━━━━━━━━━━━━━━━━━━━━━━━━━━━━━━━━━━━━━━━\u001b[0m \u001b[32m60.6/60.6 kB\u001b[0m \u001b[31m6.5 MB/s\u001b[0m eta \u001b[36m0:00:00\u001b[0m\n",
      "\u001b[?25hRequirement already satisfied: huggingface-hub>=0.15.1 in /home/zardar/miniconda3/envs/py3.10/lib/python3.10/site-packages (from sentence_transformers) (0.17.3)\n",
      "Requirement already satisfied: Pillow in /home/zardar/miniconda3/envs/py3.10/lib/python3.10/site-packages (from sentence_transformers) (10.0.1)\n",
      "Requirement already satisfied: filelock in /home/zardar/miniconda3/envs/py3.10/lib/python3.10/site-packages (from huggingface-hub>=0.15.1->sentence_transformers) (3.9.0)\n",
      "Requirement already satisfied: fsspec in /home/zardar/miniconda3/envs/py3.10/lib/python3.10/site-packages (from huggingface-hub>=0.15.1->sentence_transformers) (2023.10.0)\n",
      "Requirement already satisfied: requests in /home/zardar/miniconda3/envs/py3.10/lib/python3.10/site-packages (from huggingface-hub>=0.15.1->sentence_transformers) (2.31.0)\n",
      "Requirement already satisfied: pyyaml>=5.1 in /home/zardar/miniconda3/envs/py3.10/lib/python3.10/site-packages (from huggingface-hub>=0.15.1->sentence_transformers) (6.0.1)\n",
      "Requirement already satisfied: typing-extensions>=3.7.4.3 in /home/zardar/miniconda3/envs/py3.10/lib/python3.10/site-packages (from huggingface-hub>=0.15.1->sentence_transformers) (4.8.0)\n",
      "Requirement already satisfied: packaging>=20.9 in /home/zardar/.local/lib/python3.10/site-packages (from huggingface-hub>=0.15.1->sentence_transformers) (23.2)\n",
      "Requirement already satisfied: sympy in /home/zardar/miniconda3/envs/py3.10/lib/python3.10/site-packages (from torch>=1.11.0->sentence_transformers) (1.11.1)\n",
      "Requirement already satisfied: networkx in /home/zardar/miniconda3/envs/py3.10/lib/python3.10/site-packages (from torch>=1.11.0->sentence_transformers) (3.1)\n",
      "Requirement already satisfied: jinja2 in /home/zardar/miniconda3/envs/py3.10/lib/python3.10/site-packages (from torch>=1.11.0->sentence_transformers) (3.1.2)\n",
      "Requirement already satisfied: regex!=2019.12.17 in /home/zardar/miniconda3/envs/py3.10/lib/python3.10/site-packages (from transformers<5.0.0,>=4.32.0->sentence_transformers) (2023.10.3)\n",
      "Requirement already satisfied: tokenizers<0.15,>=0.14 in /home/zardar/miniconda3/envs/py3.10/lib/python3.10/site-packages (from transformers<5.0.0,>=4.32.0->sentence_transformers) (0.14.1)\n",
      "Requirement already satisfied: safetensors>=0.3.1 in /home/zardar/miniconda3/envs/py3.10/lib/python3.10/site-packages (from transformers<5.0.0,>=4.32.0->sentence_transformers) (0.4.0)\n",
      "Collecting joblib>=1.2.0 (from scikit-learn->sentence_transformers)\n",
      "  Obtaining dependency information for joblib>=1.2.0 from https://files.pythonhosted.org/packages/ae/e2/4dea6313ef2b38442fccbbaf4017e50a6c3c8a50e8ee9b512783e5c90409/joblib-1.4.0-py3-none-any.whl.metadata\n",
      "  Downloading joblib-1.4.0-py3-none-any.whl.metadata (5.4 kB)\n",
      "Collecting threadpoolctl>=2.0.0 (from scikit-learn->sentence_transformers)\n",
      "  Obtaining dependency information for threadpoolctl>=2.0.0 from https://files.pythonhosted.org/packages/1e/84/ccd9b08653022b7785b6e3ee070ffb2825841e0dc119be22f0840b2b35cb/threadpoolctl-3.4.0-py3-none-any.whl.metadata\n",
      "  Downloading threadpoolctl-3.4.0-py3-none-any.whl.metadata (13 kB)\n",
      "Requirement already satisfied: MarkupSafe>=2.0 in /home/zardar/miniconda3/envs/py3.10/lib/python3.10/site-packages (from jinja2->torch>=1.11.0->sentence_transformers) (2.1.1)\n",
      "Requirement already satisfied: charset-normalizer<4,>=2 in /home/zardar/miniconda3/envs/py3.10/lib/python3.10/site-packages (from requests->huggingface-hub>=0.15.1->sentence_transformers) (2.0.4)\n",
      "Requirement already satisfied: idna<4,>=2.5 in /home/zardar/miniconda3/envs/py3.10/lib/python3.10/site-packages (from requests->huggingface-hub>=0.15.1->sentence_transformers) (3.4)\n",
      "Requirement already satisfied: urllib3<3,>=1.21.1 in /home/zardar/miniconda3/envs/py3.10/lib/python3.10/site-packages (from requests->huggingface-hub>=0.15.1->sentence_transformers) (1.26.16)\n",
      "Requirement already satisfied: certifi>=2017.4.17 in /home/zardar/miniconda3/envs/py3.10/lib/python3.10/site-packages (from requests->huggingface-hub>=0.15.1->sentence_transformers) (2024.2.2)\n",
      "Requirement already satisfied: mpmath>=0.19 in /home/zardar/miniconda3/envs/py3.10/lib/python3.10/site-packages (from sympy->torch>=1.11.0->sentence_transformers) (1.3.0)\n",
      "Downloading sentence_transformers-2.6.1-py3-none-any.whl (163 kB)\n",
      "\u001b[2K   \u001b[38;2;114;156;31m━━━━━━━━━━━━━━━━━━━━━━━━━━━━━━━━━━━━━━━━\u001b[0m \u001b[32m163.3/163.3 kB\u001b[0m \u001b[31m15.5 MB/s\u001b[0m eta \u001b[36m0:00:00\u001b[0m\n",
      "\u001b[?25hDownloading scikit_learn-1.4.1.post1-cp310-cp310-manylinux_2_17_x86_64.manylinux2014_x86_64.whl (12.1 MB)\n",
      "\u001b[2K   \u001b[38;2;114;156;31m━━━━━━━━━━━━━━━━━━━━━━━━━━━━━━━━━━━━━━━━\u001b[0m \u001b[32m12.1/12.1 MB\u001b[0m \u001b[31m35.8 MB/s\u001b[0m eta \u001b[36m0:00:00\u001b[0mm eta \u001b[36m0:00:01\u001b[0m[36m0:00:01\u001b[0m\n",
      "\u001b[?25hDownloading scipy-1.13.0-cp310-cp310-manylinux_2_17_x86_64.manylinux2014_x86_64.whl (38.6 MB)\n",
      "\u001b[2K   \u001b[38;2;114;156;31m━━━━━━━━━━━━━━━━━━━━━━━━━━━━━━━━━━━━━━━━\u001b[0m \u001b[32m38.6/38.6 MB\u001b[0m \u001b[31m19.9 MB/s\u001b[0m eta \u001b[36m0:00:00\u001b[0mm eta \u001b[36m0:00:01\u001b[0m[36m0:00:01\u001b[0m\n",
      "\u001b[?25hDownloading joblib-1.4.0-py3-none-any.whl (301 kB)\n",
      "\u001b[2K   \u001b[38;2;114;156;31m━━━━━━━━━━━━━━━━━━━━━━━━━━━━━━━━━━━━━━━━\u001b[0m \u001b[32m301.2/301.2 kB\u001b[0m \u001b[31m33.2 MB/s\u001b[0m eta \u001b[36m0:00:00\u001b[0m\n",
      "\u001b[?25hDownloading threadpoolctl-3.4.0-py3-none-any.whl (17 kB)\n",
      "Installing collected packages: threadpoolctl, scipy, joblib, scikit-learn, sentence_transformers\n",
      "Successfully installed joblib-1.4.0 scikit-learn-1.4.1.post1 scipy-1.13.0 sentence_transformers-2.6.1 threadpoolctl-3.4.0\n"
     ]
    }
   ],
   "source": [
    "!pip install sentence_transformers"
   ]
  },
  {
   "cell_type": "code",
   "execution_count": 23,
   "id": "3f7c06e0-cfab-450e-b252-e5efc8a947a3",
   "metadata": {
    "tags": []
   },
   "outputs": [],
   "source": [
    "#| hide\n",
    "from sentence_transformers import SentenceTransformer\n",
    "import torch"
   ]
  },
  {
   "cell_type": "code",
   "execution_count": 13,
   "id": "ce22424b-c496-4c31-aa21-43aeb0c96f6c",
   "metadata": {
    "tags": []
   },
   "outputs": [],
   "source": [
    "emb_model = SentenceTransformer(\"BAAI/bge-small-en-v1.5\", device='cpu')"
   ]
  },
  {
   "cell_type": "code",
   "execution_count": 14,
   "id": "a65674a2-ff2b-4b81-830e-dc85b1860a98",
   "metadata": {
    "tags": []
   },
   "outputs": [],
   "source": [
    "#| hide\n",
    "rpt1 = \"\"\"\n",
    "FINDINGS:\n",
    "The left breast demonstrates scattered fibroglandular densities. There is a focal asymmetry in the upper outer quadrant of the left breast, corresponding to an area of architectural distortion on the mediolateral oblique view. Magnification views of this area reveal pleomorphic microcalcifications in a segmental distribution, extending over an area of approximately 2 cm. No dominant mass or significant skin thickening is identified. The right breast shows heterogeneously dense parenchyma without suspicious masses, calcifications, or architectural distortion.\n",
    "\n",
    "IMPRESSION:\n",
    "\n",
    "Left breast: Segmental pleomorphic microcalcifications in the upper outer quadrant, suspicious for ductal carcinoma in situ (DCIS). Biopsy is recommended for definitive diagnosis.\n",
    "Right breast: No mammographic evidence of malignancy.\n",
    "BI-RADS Category: 4C (Left breast); 2 (Right breast)\n",
    "\"\"\""
   ]
  },
  {
   "cell_type": "code",
   "execution_count": 15,
   "id": "21ae2d5d-dcb6-441d-8a75-d5a40540f8ac",
   "metadata": {
    "tags": []
   },
   "outputs": [
    {
     "name": "stdout",
     "output_type": "stream",
     "text": [
      "\n",
      "FINDINGS:\n",
      "The left breast demonstrates scattered fibroglandular densities. There is a focal asymmetry in the upper outer quadrant of the left breast, corresponding to an area of architectural distortion on the mediolateral oblique view. Magnification views of this area reveal pleomorphic microcalcifications in a segmental distribution, extending over an area of approximately 2\n"
     ]
    }
   ],
   "source": [
    "print(rpt1[:380])"
   ]
  },
  {
   "cell_type": "code",
   "execution_count": 16,
   "id": "4a43d42d-9ac7-45ce-a11a-5745eed9bd01",
   "metadata": {
    "tags": []
   },
   "outputs": [],
   "source": [
    "#| hide\n",
    "rpt2 = \"\"\"\n",
    "FINDINGS:\n",
    "Both breasts demonstrate scattered areas of fibroglandular density. The breast parenchyma is heterogeneously dense, which may limit the sensitivity of mammography. No dominant masses, suspicious calcifications, or areas of architectural distortion are identified in either breast. Bilateral benign-appearing calcifications are noted, likely representing involuting fibroadenomas or fibrocystic changes. The skin appears unremarkable, with no evidence of thickening or retraction. No abnormal axillary lymph nodes are seen.\n",
    "\n",
    "IMPRESSION:\n",
    "\n",
    "No mammographic evidence of malignancy in either breast.\n",
    "Heterogeneously dense breast parenchyma, which may decrease the sensitivity of mammography. Consider supplemental screening with breast ultrasound or MRI, especially in high-risk patients.\n",
    "BI-RADS Category: 2 (Both breasts)\n",
    "\"\"\""
   ]
  },
  {
   "cell_type": "code",
   "execution_count": 17,
   "id": "604bcd00-5d66-43fe-84dc-6f0d14b3b30c",
   "metadata": {
    "tags": []
   },
   "outputs": [
    {
     "name": "stdout",
     "output_type": "stream",
     "text": [
      "\n",
      "FINDINGS:\n",
      "Both breasts demonstrate scattered areas of fibroglandular density. The breast parenchyma is heterogeneously dense, which may limit the sensitivity of mammography. No dominant masses, suspicious calcifications, or areas of architectural distortion are identified in either breast. Bilateral benign-appearing calcifications are noted, likely representing involuting fibr\n"
     ]
    }
   ],
   "source": [
    "print(rpt2[:380])"
   ]
  },
  {
   "cell_type": "code",
   "execution_count": 52,
   "id": "4148ecb5-b93a-4b3c-9014-7179160d4b94",
   "metadata": {
    "tags": []
   },
   "outputs": [],
   "source": [
    "ques = \"Suspicious calcification\""
   ]
  },
  {
   "cell_type": "code",
   "execution_count": 53,
   "id": "888125e8-2312-4931-8047-7f8f5cfd324a",
   "metadata": {
    "tags": []
   },
   "outputs": [],
   "source": [
    "q_emb,rpt1_emb,rpt2_emb = emb_model.encode([ques,rpt1,rpt2], convert_to_tensor=True)"
   ]
  },
  {
   "cell_type": "code",
   "execution_count": 54,
   "id": "3638de10-ccee-4cb7-82e7-6d9bebeab383",
   "metadata": {
    "tags": []
   },
   "outputs": [
    {
     "data": {
      "text/plain": [
       "torch.Size([384])"
      ]
     },
     "execution_count": 54,
     "metadata": {},
     "output_type": "execute_result"
    }
   ],
   "source": [
    "rpt1_emb.shape"
   ]
  },
  {
   "cell_type": "code",
   "execution_count": 55,
   "id": "5c40500d-9b53-4c9e-98f3-13f4a1b62387",
   "metadata": {
    "tags": []
   },
   "outputs": [
    {
     "data": {
      "text/plain": [
       "torch.Size([384])"
      ]
     },
     "execution_count": 55,
     "metadata": {},
     "output_type": "execute_result"
    }
   ],
   "source": [
    "torch.Size([384])"
   ]
  },
  {
   "cell_type": "code",
   "execution_count": 56,
   "id": "183606ca-777f-4cb0-97b2-2358651ab8d4",
   "metadata": {
    "tags": []
   },
   "outputs": [],
   "source": [
    "import torch.nn.functional as F"
   ]
  },
  {
   "cell_type": "code",
   "execution_count": 57,
   "id": "46d57b5c-e677-48e8-b022-26bc6cebf9ea",
   "metadata": {
    "tags": []
   },
   "outputs": [
    {
     "data": {
      "text/plain": [
       "tensor(0.6850)"
      ]
     },
     "execution_count": 57,
     "metadata": {},
     "output_type": "execute_result"
    }
   ],
   "source": [
    "F.cosine_similarity(q_emb, rpt1_emb, dim=0)"
   ]
  },
  {
   "cell_type": "code",
   "execution_count": 58,
   "id": "4018ec7b-8465-4023-982b-0cc4e5715ac6",
   "metadata": {
    "tags": []
   },
   "outputs": [
    {
     "data": {
      "text/plain": [
       "tensor(0.7026)"
      ]
     },
     "execution_count": 58,
     "metadata": {},
     "output_type": "execute_result"
    }
   ],
   "source": [
    "F.cosine_similarity(q_emb, rpt2_emb, dim=0)"
   ]
  },
  {
   "cell_type": "code",
   "execution_count": null,
   "id": "871345ac-b4b3-4911-8036-99ff5df95818",
   "metadata": {},
   "outputs": [],
   "source": []
  },
  {
   "cell_type": "code",
   "execution_count": null,
   "id": "5b99d03c-8551-4851-a11c-f0256f4fed7b",
   "metadata": {},
   "outputs": [],
   "source": []
  }
 ],
 "metadata": {
  "kernelspec": {
   "display_name": "Python [conda env:py3.10] *",
   "language": "python",
   "name": "conda-env-py3.10-py"
  },
  "language_info": {
   "codemirror_mode": {
    "name": "ipython",
    "version": 3
   },
   "file_extension": ".py",
   "mimetype": "text/x-python",
   "name": "python",
   "nbconvert_exporter": "python",
   "pygments_lexer": "ipython3",
   "version": "3.10.13"
  }
 },
 "nbformat": 4,
 "nbformat_minor": 5
}
