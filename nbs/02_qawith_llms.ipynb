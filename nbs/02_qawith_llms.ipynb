{
 "cells": [
  {
   "cell_type": "code",
   "execution_count": null,
   "id": "f040034c-a7b4-435c-9f67-f5d24dc25ee8",
   "metadata": {},
   "outputs": [],
   "source": [
    "#| default_exp clinical_llms"
   ]
  },
  {
   "cell_type": "code",
   "execution_count": null,
   "id": "c5306d6c-9c55-4767-ba19-ef3ae353851a",
   "metadata": {},
   "outputs": [],
   "source": [
    "# Extracting clinical data using LLMs\n",
    "> What is this nb about?"
   ]
  },
  {
   "cell_type": "code",
   "execution_count": null,
   "id": "ebccf8e2-5d74-4c93-b41d-9f2445614bf9",
   "metadata": {},
   "outputs": [],
   "source": [
    "#| hide\n",
    "from transformers import AutoModelForCausalLM,AutoTokenizer\n",
    "import torch"
   ]
  },
  {
   "cell_type": "markdown",
   "id": "55d841b8-54fc-4826-9dd5-2ac78dbec94a",
   "metadata": {},
   "source": [
    "#### meta-llama/Llama-2-7b-hf"
   ]
  },
  {
   "cell_type": "code",
   "execution_count": null,
   "id": "c721edfe-5830-4666-b41f-046bd08cea09",
   "metadata": {},
   "outputs": [],
   "source": [
    "mn = \"meta-llama/Llama-2-7b-hf\"\n",
    "model = AutoModelForCausalLM.from_pretrained(mn, device_map=0, load_in_8bit=True)\n",
    "tokr = AutoTokenizer.from_pretrained(mn)"
   ]
  },
  {
   "cell_type": "code",
   "execution_count": null,
   "id": "5205d89e-0d33-44d2-9878-721c25dec78e",
   "metadata": {},
   "outputs": [],
   "source": [
    "prompt = \"Extract the calcification status or category from the following radiology report: \""
   ]
  },
  {
   "cell_type": "code",
   "execution_count": null,
   "id": "6ff0c210-29d3-4186-95c4-12cd43c8a667",
   "metadata": {},
   "outputs": [],
   "source": [
    "report = \"\"\"\n",
    "FINDINGS:\n",
    "There are scattered calcifications in the right breast, which are coarse and heterogeneous in morphology. These calcifications are categorized as BI-RADS 4, suspicious for malignancy.\n",
    "\n",
    "No suspicious masses, architectural distortion, or skin thickening are identified in either breast.\n",
    "\n",
    "IMPRESSION:\n",
    "BI-RADS 4: Suspicious calcifications in the right breast. Biopsy is recommended for further evaluation.\n",
    "\"\"\""
   ]
  },
  {
   "cell_type": "code",
   "execution_count": null,
   "id": "336fb3e1-7557-4711-9773-ff42a4de5060",
   "metadata": {},
   "outputs": [],
   "source": [
    "ques = prompt + report"
   ]
  },
  {
   "cell_type": "code",
   "execution_count": null,
   "id": "176b69dd-ef02-4add-9665-b05fa3beb863",
   "metadata": {},
   "outputs": [],
   "source": [
    "toks = tokr(ques, return_tensors=\"pt\")"
   ]
  },
  {
   "cell_type": "code",
   "execution_count": null,
   "id": "e4b32a52-0670-4472-a279-e5aaef9eda8c",
   "metadata": {},
   "outputs": [],
   "source": [
    "tokr.batch_decode(toks['input_ids'])"
   ]
  },
  {
   "cell_type": "code",
   "execution_count": null,
   "id": "fcf2df1f-465f-45be-909c-c7fabdb8311e",
   "metadata": {},
   "outputs": [],
   "source": [
    "%%time\n",
    "res = model.generate(**toks.to(\"cuda\"), max_new_tokens=15).to('cpu')\n",
    "res"
   ]
  },
  {
   "cell_type": "code",
   "execution_count": null,
   "id": "4f3a0fc3-63dc-410e-90bd-b7e784ae6f15",
   "metadata": {},
   "outputs": [],
   "source": [
    "tokr.batch_decode(res)"
   ]
  },
  {
   "cell_type": "markdown",
   "id": "e45c877f-6267-4210-ac75-8643d8a85302",
   "metadata": {},
   "source": [
    "#### TheBloke/Llama-2-13B-GPTQ"
   ]
  },
  {
   "cell_type": "code",
   "execution_count": null,
   "id": "c14b6965-6bd1-4f49-8474-97c300ed0b61",
   "metadata": {},
   "outputs": [],
   "source": [
    "mn = 'TheBloke/Llama-2-13B-GPTQ'\n",
    "model = AutoModelForCausalLM.from_pretrained(mn, device_map=0, torch_dtype=torch.float16)"
   ]
  },
  {
   "cell_type": "code",
   "execution_count": null,
   "id": "6af5c938-3555-4f56-b958-c02db9e59ca3",
   "metadata": {},
   "outputs": [],
   "source": [
    "model = AutoModelForCausalLM.from_pretrained(mn, device_map=0, torch_dtype=torch.bfloat16)"
   ]
  },
  {
   "cell_type": "code",
   "execution_count": null,
   "id": "36d3891f-0595-4e67-8411-bfa1180d8afa",
   "metadata": {},
   "outputs": [],
   "source": [
    "%%time\n",
    "res = model.generate(**toks.to(\"cuda\"), max_new_tokens=15).to('cpu')\n",
    "res"
   ]
  },
  {
   "cell_type": "code",
   "execution_count": null,
   "id": "97aec898-20a6-4208-8ae9-cfa7fa811119",
   "metadata": {},
   "outputs": [],
   "source": [
    "%%time\n",
    "res = model.generate(**toks.to(\"cuda\"), max_new_tokens=15).to('cpu')\n",
    "res"
   ]
  },
  {
   "cell_type": "code",
   "execution_count": null,
   "id": "192fa7f9-796a-4d9a-9766-80d0ae7ad328",
   "metadata": {},
   "outputs": [],
   "source": [
    "def gen(p, maxlen=15, sample=True):\n",
    "    toks = tokr(p, return_tensors=\"pt\")\n",
    "    res = model.generate(**toks.to(\"cuda\"), max_new_tokens=maxlen, do_sample=sample).to('cpu')\n",
    "    return tokr.batch_decode(res)"
   ]
  },
  {
   "cell_type": "code",
   "execution_count": null,
   "id": "49cadc2f-599f-4230-81c0-2330b36af0b6",
   "metadata": {},
   "outputs": [],
   "source": [
    "gen(prompt, 50)"
   ]
  },
  {
   "cell_type": "markdown",
   "id": "8db87626-c2a5-4f71-90e9-ed77ca7d8e1c",
   "metadata": {},
   "source": [
    "#### TheBloke/OpenOrca-Platypus2-13B-GPTQ"
   ]
  },
  {
   "cell_type": "code",
   "execution_count": null,
   "id": "3209e912-6920-45f9-aa24-e31942ccba8b",
   "metadata": {},
   "outputs": [],
   "source": [
    "mn = 'TheBloke/OpenOrca-Platypus2-13B-GPTQ'\n",
    "model = AutoModelForCausalLM.from_pretrained(mn, device_map=0, torch_dtype=torch.float16)"
   ]
  },
  {
   "cell_type": "code",
   "execution_count": null,
   "id": "7191865a-83d6-4de2-a54d-7ad3d2ebed6c",
   "metadata": {},
   "outputs": [],
   "source": [
    "def mk_oo_prompt(user): return f\"### Instruction: {user}\\n\\n### Response:\\n\""
   ]
  },
  {
   "cell_type": "code",
   "execution_count": null,
   "id": "df172741-a180-4cf6-b390-b3bf5990dd8e",
   "metadata": {},
   "outputs": [],
   "source": [
    "gen(mk_oo_prompt(ques), 150)"
   ]
  },
  {
   "cell_type": "code",
   "execution_count": null,
   "id": "3a73af0c-15e2-4c41-86b2-c9a42307dc1b",
   "metadata": {},
   "outputs": [],
   "source": [
    "def gen(p, maxlen=15, sample=True):\n",
    "    toks = tokr(p, return_tensors=\"pt\")\n",
    "    res = model.generate(**toks.to(\"cuda\"), max_new_tokens=maxlen, do_sample=sample).to('cpu')\n",
    "    return tokr.batch_decode(res)"
   ]
  },
  {
   "cell_type": "code",
   "execution_count": null,
   "id": "585e8479-8bdf-4bd0-b278-0be49e4ba742",
   "metadata": {},
   "outputs": [],
   "source": [
    "prompt = \"Extract the calcification status or category from the following radiology report: \""
   ]
  },
  {
   "cell_type": "code",
   "execution_count": null,
   "id": "8bf752c9-0b3d-4249-b192-f920755ca745",
   "metadata": {},
   "outputs": [],
   "source": [
    "report = \"\"\"\n",
    "FINDINGS:\n",
    "There are scattered calcifications in the right breast, which are coarse and heterogeneous in morphology. These calcifications are categorized as BI-RADS 4, suspicious for malignancy.\n",
    "\n",
    "No suspicious masses, architectural distortion, or skin thickening are identified in either breast.\n",
    "\n",
    "IMPRESSION:\n",
    "BI-RADS 4: Suspicious calcifications in the right breast. Biopsy is recommended for further evaluation.\n",
    "\"\"\"\n",
    "\n",
    "ques = prompt + report\n",
    "\n",
    "gen(mk_prompt(ques), 150)"
   ]
  },
  {
   "cell_type": "markdown",
   "id": "a12e5e12-4eb4-4457-8a5f-8f94d4b775a4",
   "metadata": {},
   "source": [
    "#### RAG?"
   ]
  },
  {
   "cell_type": "code",
   "execution_count": null,
   "id": "7ab1d0ea-ee15-45ef-a136-219315717581",
   "metadata": {},
   "outputs": [],
   "source": [
    "#| hide\n",
    "webpage = \"\"\"\n",
    "Breast calcifications\n",
    "Last revised by Mostafa Elfeky on 10 Jul 2023\n",
    " \n",
    "Citation, DOI, disclosures and article data\n",
    "Breast calcifications are deposits of calcium salts in the breast, which are radio-opaque on mammography. The majority are benign, but they can be associated with cancer. The ability to diagnose and appropriately manage the significant microcalcifications and differentiate them from innocuous findings is part of the art and science of breast imaging.\n",
    "\n",
    "Epidemiology\n",
    "Calcifications are extremely common, present in ~85% of mammograms 8. Their frequency increases with age. \n",
    "\n",
    "In a screening mammography program, the rate of recall because of calcifications was 1.7% and of these, 19% resulted in a cancer diagnosis 13. In the digital mammography era, about one-sixth of all recalls are for calcifications 15.\n",
    "\n",
    "Calcification-specific cancer detection rates in the era of digital mammography range from 1.9 to 3.2 in 1000 screened 13,14. A third of breast cancers show calcifications as the only mammographically suspicious feature 13. Up to 50% of breast cancers can be associated with calcification while 15-30% of calcifications biopsied for various reasons tend to be malignant in asymptomatic patients 10.\n",
    "\n",
    "Pathology\n",
    "Aetiology\n",
    "Of the breast cancers detected on mammography due to calcifications, about two-thirds represent ductal carcinoma in situ and the remainder are invasive ductal carcinoma 13,14. In contrast, the causes of benign calcifications are broad and covered in detail in other sections (Radiographic features and Differential diagnosis).\n",
    "\n",
    "Microscopic appearance\n",
    "Calcifications typically represent calcium phosphate or calcium oxalate salt deposition, with the latter more likely to be benign 19. The former appears purple on haematoxylin and eosin stain, while the latter requires the use of polarised light to assess birefringence.\n",
    "\n",
    "Radiographic features\n",
    "The BI-RADS lexicon prescribes descriptors for typically benign calcifications as well as suspicious morphologic terms and descriptors of calcification distribution 17. See also the separate article on breast calcifications: an approach.\n",
    "\n",
    "Typically benign calcifications\n",
    "skin: lucent centred, usually tightly grouped, and can be localised on tangential views if the appearance is atypical; formed within the dermis/epidermis\n",
    "vascular: parallel tram tracks or discontinuous linear appearance at the margins of a tubular structure; formed in blood vessel walls\n",
    "coarse or \"popcorn-like\": large (>2-3 mm), sometimes confluent or associated with a circumscribed mass; formed in involuting fibroadenomas\n",
    "large rod-like: large tubules in a radiating and sometimes branching distribution orientated towards the nipple; with the largest in a breast measuring mean 4 mm long and 0.6 mm wide, usually bilateral, usually intraductal but sometimes periductal, usually in older women (>60 years) 18; formed within ductal ectasia\n",
    "round, including punctate: circular, usually <1 mm (<0.5 mm if punctate); formed in acini of terminal ductal lobular unit\n",
    "rim: \"eggshell\", lucent centred; formed in the walls of oil cysts (fat necrosis) or simple cysts\n",
    "dystrophic: irregular, usually >1 mm; formed after radiation, trauma, or surgery\n",
    "milk of calcium: \"tea cups\" curvilinear or linear level on the 90° lateral (ML/LM) view but a smudge on the CC view; formed as sediment within cysts\n",
    "suture: linear or tubular calcifications; formed on loops and knots of surgical sutures\n",
    "Suspicious morphology of calcifications\n",
    "The following particle shapes carry increasing suspicion for malignancy, in order 17,18:\n",
    "\n",
    "coarse heterogeneous: irregular, generally 0.5-1 mm\n",
    "amorphous: indistinct and/or small (\"powdery\", \"cloud\", or \"cottony\"), such that another specific shape cannot be determined\n",
    "fine pleomorphic: variable shape (\"shards of glass\" or \"crushed stone\"), generally <0.5 mm\n",
    "fine linear or fine-linear branching: thin (<0.5 mm), linear, branching or irregularly arranged (\"casting\")\n",
    "See also the separate article on suspicious breast calcifications. These descriptors and their associated probability of malignancy can be further modified by their distribution.\n",
    "\n",
    "Distribution\n",
    "diffuse: scattered randomly throughout the breast; almost always benign\n",
    "regional: scattered in a larger volume (>2 cm in greatest linear dimension) of breast tissue and not in the expected ductal distribution; malignancy is less likely but the overall evaluation also depends on the morphology\n",
    "grouped: a cluster of at least 5 calcifications within 1 cm from each other, in an area at most 2 cm in greatest linear dimension; more likely to be malignant with smaller calcific particle sizes (<1 mm) and suspicious shape\n",
    "linear: calcifications arrayed in a line suggestive of deposition along ducts; suspicious if there is not a characteristically benign appearance such as vascular or large rod-like calcifications)\n",
    "segmental: calcium deposits in ducts and branches of a segment or lobe; suspicious if not characteristically benign such as large rod-like\n",
    "Radiology report\n",
    "Calcifications that are typically benign do not need to be reported (BI-RADS 1), so that the referrer or patient reading the report would not be confused that they could be anything other than definitely benign, but they may be reported (BI-RADS 2) if there is concern that other observers viewing the images might not interpret them as benign 17.\n",
    "\n",
    "Round calcifications are benign (BI-RADS 2) if diffuse or stable for several years. Grouped punctate calcifications in isolation and without prior examinations for comparison are probably benign if a full diagnostic evaluation has been performed (BI-RADS 3). Punctate calcifications that are new, increased, or linear or segmental in distribution are suspicious (BI-RADS 4).\n",
    "\n",
    "Amorphous calcifications are suspicious (BI-RADS 4) unless they are bilateral and diffuse and/or stable for many years. A single group of coarse heterogeneous, amorphous, or fine pleomorphic calcifications are moderately suspicious (BI-RADS 4B), whereas fine linear or fine-linear branching calcifications are highly suspicious (BI-RADS 4C) 17. A linear or segmental distribution increases the level of suspicion for calcifications with suspicious morphologies.\n",
    "\n",
    "A combination of several suspicious descriptors/findings can be highly suggestive of malignancy (BI-RADS 5), a category which is used if a nonmalignant percutaneous biopsy result would be discordant and prompt a repeat biopsy (usually surgical).\n",
    "\n",
    "Differential diagnosis\n",
    "Many entities cause breast calcifications but the primary distinction of clinical relevance is between benign and malignant causes. The classic benign aetiologies are noted above (\"Typically benign calcifications\"). As noted above, malignant calcifications usually represent either ductal carcinoma in situ or invasive ductal carcinoma.\n",
    "\n",
    "Artifactual mimics of calcification include antiperspirants, powders, soaps, and tattoos.\n",
    "\"\"\""
   ]
  },
  {
   "cell_type": "code",
   "execution_count": null,
   "id": "6881a8f7-2bdb-4ac2-a222-afa7149dcda0",
   "metadata": {},
   "outputs": [],
   "source": [
    "context = f\"{report}\\n{webpage[:700]}\""
   ]
  },
  {
   "cell_type": "code",
   "execution_count": null,
   "id": "036866ed-ef99-4928-91b4-dd5db5e296b5",
   "metadata": {},
   "outputs": [],
   "source": [
    "ques = \"Based on the information provided, what type of microcalcifications are present in the report? What does this likely indicate?\""
   ]
  },
  {
   "cell_type": "code",
   "execution_count": null,
   "id": "f1f7d96c-e480-4713-affb-c9a807c765da",
   "metadata": {},
   "outputs": [],
   "source": [
    "ques_ctx = f\"\"\"Answer the question with the help of the provided context. ## Context {context} ## Question {ques}\"\"\""
   ]
  },
  {
   "cell_type": "code",
   "execution_count": null,
   "id": "8c8e184f-2185-4ccb-a79b-90a7bbf7cfe6",
   "metadata": {},
   "outputs": [],
   "source": [
    "res = gen(mk_prompt(ques_ctx), 300)"
   ]
  },
  {
   "cell_type": "code",
   "execution_count": null,
   "id": "c79052cf-5a35-49b3-a7b7-62e4be01a1cc",
   "metadata": {},
   "outputs": [],
   "source": [
    "print(res[0].split('### Assistant:\\n')[1])"
   ]
  }
 ],
 "metadata": {
  "kernelspec": {
   "display_name": "Python [conda env:py3.10] *",
   "language": "python",
   "name": "conda-env-py3.10-py"
  },
  "language_info": {
   "codemirror_mode": {
    "name": "ipython",
    "version": 3
   },
   "file_extension": ".py",
   "mimetype": "text/x-python",
   "name": "python",
   "nbconvert_exporter": "python",
   "pygments_lexer": "ipython3",
   "version": "3.10.13"
  }
 },
 "nbformat": 4,
 "nbformat_minor": 5
}
